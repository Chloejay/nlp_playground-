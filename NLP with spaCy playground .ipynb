{
 "cells": [
  {
   "cell_type": "code",
   "execution_count": 1,
   "metadata": {},
   "outputs": [
    {
     "name": "stdout",
     "output_type": "stream",
     "text": [
      "Collecting spacy\n",
      "\u001b[?25l  Downloading https://files.pythonhosted.org/packages/24/de/ac14cd453c98656d6738a5669f96a4ac7f668493d5e6b78227ac933c5fd4/spacy-2.0.12.tar.gz (22.0MB)\n",
      "\u001b[K    100% |████████████████████████████████| 22.0MB 269kB/s eta 0:00:01   25% |████████▎                       | 5.7MB 6.4MB/s eta 0:00:03\n",
      "\u001b[?25hRequirement not upgraded as not directly required: numpy>=1.7 in /Applications/anaconda3/lib/python3.6/site-packages (from spacy) (1.14.5)\n",
      "Collecting murmurhash<0.29,>=0.28 (from spacy)\n",
      "  Downloading https://files.pythonhosted.org/packages/5e/31/c8c1ecafa44db30579c8c457ac7a0f819e8b1dbc3e58308394fff5ff9ba7/murmurhash-0.28.0.tar.gz\n",
      "Collecting cymem<1.32,>=1.30 (from spacy)\n",
      "  Downloading https://files.pythonhosted.org/packages/f8/9e/273fbea507de99166c11cd0cb3fde1ac01b5bc724d9a407a2f927ede91a1/cymem-1.31.2.tar.gz\n",
      "Collecting preshed<2.0.0,>=1.0.0 (from spacy)\n",
      "\u001b[?25l  Downloading https://files.pythonhosted.org/packages/be/fc/09684555ce0ee7086675e6be698e4efeb6d9b315fd5aa96bed347572282b/preshed-1.0.1.tar.gz (112kB)\n",
      "\u001b[K    100% |████████████████████████████████| 122kB 14.5MB/s ta 0:00:01\n",
      "\u001b[?25hCollecting thinc<6.11.0,>=6.10.3 (from spacy)\n",
      "\u001b[?25l  Downloading https://files.pythonhosted.org/packages/94/b1/47a88072d0a38b3594c0a638a62f9ef7c742b8b8a87f7b105f7ed720b14b/thinc-6.10.3.tar.gz (1.2MB)\n",
      "\u001b[K    100% |████████████████████████████████| 1.2MB 9.4MB/s eta 0:00:01\n",
      "\u001b[?25hCollecting plac<1.0.0,>=0.9.6 (from spacy)\n",
      "  Downloading https://files.pythonhosted.org/packages/9e/9b/62c60d2f5bc135d2aa1d8c8a86aaf84edb719a59c7f11a4316259e61a298/plac-0.9.6-py2.py3-none-any.whl\n",
      "Collecting ujson>=1.35 (from spacy)\n",
      "\u001b[?25l  Downloading https://files.pythonhosted.org/packages/16/c4/79f3409bc710559015464e5f49b9879430d8f87498ecdc335899732e5377/ujson-1.35.tar.gz (192kB)\n",
      "\u001b[K    100% |████████████████████████████████| 194kB 14.5MB/s ta 0:00:01\n",
      "\u001b[?25hCollecting dill<0.3,>=0.2 (from spacy)\n",
      "\u001b[?25l  Downloading https://files.pythonhosted.org/packages/6f/78/8b96476f4ae426db71c6e86a8e6a81407f015b34547e442291cd397b18f3/dill-0.2.8.2.tar.gz (150kB)\n",
      "\u001b[K    100% |████████████████████████████████| 153kB 11.1MB/s ta 0:00:01\n",
      "\u001b[?25hCollecting regex==2017.4.5 (from spacy)\n",
      "\u001b[?25l  Downloading https://files.pythonhosted.org/packages/36/62/c0c0d762ffd4ffaf39f372eb8561b8d491a11ace5a7884610424a8b40f95/regex-2017.04.05.tar.gz (601kB)\n",
      "\u001b[K    100% |████████████████████████████████| 604kB 22.8MB/s ta 0:00:01\n",
      "\u001b[?25hRequirement not upgraded as not directly required: requests<3.0.0,>=2.13.0 in /Applications/anaconda3/lib/python3.6/site-packages (from spacy) (2.18.4)\n",
      "Requirement not upgraded as not directly required: msgpack<1.0.0,>=0.5.6 in /Applications/anaconda3/lib/python3.6/site-packages (from thinc<6.11.0,>=6.10.3->spacy) (0.5.6)\n",
      "Collecting msgpack-numpy<1.0.0,>=0.4.1 (from thinc<6.11.0,>=6.10.3->spacy)\n",
      "  Downloading https://files.pythonhosted.org/packages/84/09/fc890664a7a1dd0a88f46c93fb9340d0a27a69e82095a4a54aef2ed94a6d/msgpack_numpy-0.4.3.1-py2.py3-none-any.whl\n",
      "Requirement not upgraded as not directly required: cytoolz<0.10,>=0.9.0 in /Applications/anaconda3/lib/python3.6/site-packages (from thinc<6.11.0,>=6.10.3->spacy) (0.9.0.1)\n",
      "Requirement not upgraded as not directly required: wrapt<1.11.0,>=1.10.0 in /Applications/anaconda3/lib/python3.6/site-packages (from thinc<6.11.0,>=6.10.3->spacy) (1.10.11)\n",
      "Requirement not upgraded as not directly required: tqdm<5.0.0,>=4.10.0 in /Applications/anaconda3/lib/python3.6/site-packages (from thinc<6.11.0,>=6.10.3->spacy) (4.23.4)\n",
      "Requirement not upgraded as not directly required: six<2.0.0,>=1.10.0 in /Applications/anaconda3/lib/python3.6/site-packages (from thinc<6.11.0,>=6.10.3->spacy) (1.11.0)\n",
      "Requirement not upgraded as not directly required: chardet<3.1.0,>=3.0.2 in /Applications/anaconda3/lib/python3.6/site-packages (from requests<3.0.0,>=2.13.0->spacy) (3.0.4)\n",
      "Requirement not upgraded as not directly required: idna<2.7,>=2.5 in /Applications/anaconda3/lib/python3.6/site-packages (from requests<3.0.0,>=2.13.0->spacy) (2.6)\n",
      "Requirement not upgraded as not directly required: urllib3<1.23,>=1.21.1 in /Applications/anaconda3/lib/python3.6/site-packages (from requests<3.0.0,>=2.13.0->spacy) (1.22)\n",
      "Requirement not upgraded as not directly required: certifi>=2017.4.17 in /Applications/anaconda3/lib/python3.6/site-packages (from requests<3.0.0,>=2.13.0->spacy) (2018.4.16)\n",
      "Requirement not upgraded as not directly required: toolz>=0.8.0 in /Applications/anaconda3/lib/python3.6/site-packages (from cytoolz<0.10,>=0.9.0->thinc<6.11.0,>=6.10.3->spacy) (0.9.0)\n",
      "Building wheels for collected packages: spacy, murmurhash, cymem, preshed, thinc, ujson, dill, regex\n",
      "  Running setup.py bdist_wheel for spacy ... \u001b[?25ldone\n",
      "\u001b[?25h  Stored in directory: /Users/chloe/Library/Caches/pip/wheels/60/0b/bb/7c2e28db574dbb2358176934eddd32a1c5f838ba0bc23eaaab\n",
      "  Running setup.py bdist_wheel for murmurhash ... \u001b[?25ldone\n",
      "\u001b[?25h  Stored in directory: /Users/chloe/Library/Caches/pip/wheels/b8/94/a4/f69f8664cdc1098603df44771b7fec5fd1b3d8364cdd83f512\n",
      "  Running setup.py bdist_wheel for cymem ... \u001b[?25ldone\n",
      "\u001b[?25h  Stored in directory: /Users/chloe/Library/Caches/pip/wheels/55/8d/4a/f6328252aa2aaec0b1cb906fd96a1566d77f0f67701071ad13\n",
      "  Running setup.py bdist_wheel for preshed ... \u001b[?25ldone\n",
      "\u001b[?25h  Stored in directory: /Users/chloe/Library/Caches/pip/wheels/ca/e5/8b/73706d7232da301838e0bc564367a2f7b2fc8f834228fc8a4b\n",
      "  Running setup.py bdist_wheel for thinc ... \u001b[?25ldone\n",
      "\u001b[?25h  Stored in directory: /Users/chloe/Library/Caches/pip/wheels/db/bc/e1/9b321b6b203288cf636a56e668ed5700076af4ed66062278ca\n",
      "  Running setup.py bdist_wheel for ujson ... \u001b[?25ldone\n",
      "\u001b[?25h  Stored in directory: /Users/chloe/Library/Caches/pip/wheels/28/77/e4/0311145b9c2e2f01470e744855131f9e34d6919687550f87d1\n",
      "  Running setup.py bdist_wheel for dill ... \u001b[?25ldone\n",
      "\u001b[?25h  Stored in directory: /Users/chloe/Library/Caches/pip/wheels/e2/5d/17/f87cb7751896ac629b435a8696f83ee75b11029f5d6f6bda72\n",
      "  Running setup.py bdist_wheel for regex ... \u001b[?25ldone\n",
      "\u001b[?25h  Stored in directory: /Users/chloe/Library/Caches/pip/wheels/75/07/38/3c16b529d50cb4e0cd3dbc7b75cece8a09c132692c74450b01\n",
      "Successfully built spacy murmurhash cymem preshed thinc ujson dill regex\n",
      "Installing collected packages: murmurhash, cymem, preshed, msgpack-numpy, plac, dill, thinc, ujson, regex, spacy\n",
      "Successfully installed cymem-1.31.2 dill-0.2.8.2 msgpack-numpy-0.4.3.1 murmurhash-0.28.0 plac-0.9.6 preshed-1.0.1 regex-2017.4.5 spacy-2.0.12 thinc-6.10.3 ujson-1.35\n",
      "\u001b[33mYou are using pip version 10.0.1, however version 18.0 is available.\n",
      "You should consider upgrading via the 'pip install --upgrade pip' command.\u001b[0m\n"
     ]
    }
   ],
   "source": [
    "!pip3 install -U spacy "
   ]
  },
  {
   "cell_type": "code",
   "execution_count": 4,
   "metadata": {},
   "outputs": [
    {
     "name": "stdout",
     "output_type": "stream",
     "text": [
      "Collecting en_core_web_lg==2.0.0 from https://github.com/explosion/spacy-models/releases/download/en_core_web_lg-2.0.0/en_core_web_lg-2.0.0.tar.gz#egg=en_core_web_lg==2.0.0\n",
      "\u001b[?25l  Downloading https://github.com/explosion/spacy-models/releases/download/en_core_web_lg-2.0.0/en_core_web_lg-2.0.0.tar.gz (852.3MB)\n",
      "\u001b[K    100% |████████████████████████████████| 852.3MB 1.3MB/s ta 0:00:0111 4% |█▌                              | 40.5MB 25.4MB/s eta 0:00:32    8% |██▋                             | 70.8MB 18.0MB/s eta 0:00:44    12% |████▏                           | 109.8MB 23.7MB/s eta 0:00:32    14% |████▋                           | 123.9MB 959kB/s eta 0:12:40    25% |████████▎                       | 219.2MB 7.1MB/s eta 0:01:29    35% |███████████▎                    | 299.8MB 25.8MB/s eta 0:00:22    35% |███████████▍                    | 302.7MB 10.7MB/s eta 0:00:52    38% |████████████▎                   | 327.4MB 4.0MB/s eta 0:02:12    42% |█████████████▌                  | 359.2MB 33.3MB/s eta 0:00:15███████               | 451.9MB 31.5MB/s eta 0:00:13    53% |█████████████████▎              | 460.0MB 4.7MB/s eta 0:01:23    58% |██████████████████▋             | 496.0MB 867kB/s eta 0:06:51    64% |████████████████████▊           | 550.8MB 21.3MB/s eta 0:00:15    66% |█████████████████████▎          | 565.6MB 52.1MB/s eta 0:00:06    70% |██████████████████████▌         | 599.5MB 15.2MB/s eta 0:00:17    73% |███████████████████████▊        | 630.6MB 29.0MB/s eta 0:00:08    81% |██████████████████████████      | 691.7MB 33.2MB/s eta 0:00:05    82% |██████████████████████████▍     | 701.7MB 5.3MB/s eta 0:00:29    85% |███████████████████████████▎    | 725.5MB 14.9MB/s eta 0:00:09    96% |███████████████████████████████ | 823.9MB 21.2MB/s eta 0:00:02\n",
      "\u001b[?25hInstalling collected packages: en-core-web-lg\n",
      "  Running setup.py install for en-core-web-lg ... \u001b[?25ldone\n",
      "\u001b[?25hSuccessfully installed en-core-web-lg-2.0.0\n",
      "\u001b[33mYou are using pip version 10.0.1, however version 18.0 is available.\n",
      "You should consider upgrading via the 'pip install --upgrade pip' command.\u001b[0m\n",
      "\n",
      "\u001b[93m    Linking successful\u001b[0m\n",
      "    /Applications/anaconda3/lib/python3.6/site-packages/en_core_web_lg -->\n",
      "    /Applications/anaconda3/lib/python3.6/site-packages/spacy/data/en_core_web_lg\n",
      "\n",
      "    You can now load the model via spacy.load('en_core_web_lg')\n",
      "\n"
     ]
    }
   ],
   "source": [
    "!python3 -m spacy download en_core_web_lg "
   ]
  },
  {
   "cell_type": "code",
   "execution_count": 5,
   "metadata": {},
   "outputs": [
    {
     "name": "stdout",
     "output_type": "stream",
     "text": [
      "Collecting textacy\n",
      "\u001b[?25l  Downloading https://files.pythonhosted.org/packages/f7/13/77612f4393d9c8a55e53924f13b2cf8b835cbf4a5e69e288613ed2de9eca/textacy-0.6.2-py2.py3-none-any.whl (142kB)\n",
      "\u001b[K    100% |████████████████████████████████| 143kB 1.5MB/s ta 0:00:01\n",
      "\u001b[?25hRequirement not upgraded as not directly required: cytoolz>=0.8.0 in /Applications/anaconda3/lib/python3.6/site-packages (from textacy) (0.9.0.1)\n",
      "Requirement not upgraded as not directly required: numpy<2.0.0,>=1.9.0 in /Applications/anaconda3/lib/python3.6/site-packages (from textacy) (1.14.5)\n",
      "Requirement not upgraded as not directly required: scipy>=0.17.0 in /Applications/anaconda3/lib/python3.6/site-packages (from textacy) (1.1.0)\n",
      "Requirement not upgraded as not directly required: scikit-learn>=0.17.0 in /Applications/anaconda3/lib/python3.6/site-packages (from textacy) (0.19.1)\n",
      "Collecting pyemd>=0.3.0 (from textacy)\n",
      "\u001b[?25l  Downloading https://files.pythonhosted.org/packages/c0/c5/7fea8e7a71cd026b30ed3c40e4c5ea13a173e28f8855da17e25271e8f545/pyemd-0.5.1.tar.gz (91kB)\n",
      "\u001b[K    100% |████████████████████████████████| 92kB 5.3MB/s ta 0:00:011\n",
      "\u001b[?25hCollecting pyphen>=0.9.4 (from textacy)\n",
      "\u001b[?25l  Downloading https://files.pythonhosted.org/packages/dd/c4/74859f895e2361d92cfbb6208ea7afd06c2f1f05c491da71cbd7ce3887be/Pyphen-0.9.4-py2.py3-none-any.whl (1.9MB)\n",
      "\u001b[K    100% |████████████████████████████████| 2.0MB 9.7MB/s eta 0:00:01\n",
      "\u001b[?25hRequirement not upgraded as not directly required: networkx>=1.11 in /Applications/anaconda3/lib/python3.6/site-packages (from textacy) (2.1)\n",
      "Collecting python-levenshtein>=0.12.0 (from textacy)\n",
      "\u001b[?25l  Downloading https://files.pythonhosted.org/packages/42/a9/d1785c85ebf9b7dfacd08938dd028209c34a0ea3b1bcdb895208bd40a67d/python-Levenshtein-0.12.0.tar.gz (48kB)\n",
      "\u001b[K    100% |████████████████████████████████| 51kB 9.0MB/s eta 0:00:01\n",
      "\u001b[?25hRequirement not upgraded as not directly required: requests>=2.10.0 in /Applications/anaconda3/lib/python3.6/site-packages (from textacy) (2.18.4)\n",
      "Collecting unidecode>=0.04.19 (from textacy)\n",
      "\u001b[?25l  Downloading https://files.pythonhosted.org/packages/59/ef/67085e30e8bbcdd76e2f0a4ad8151c13a2c5bce77c85f8cad6e1f16fb141/Unidecode-1.0.22-py2.py3-none-any.whl (235kB)\n",
      "\u001b[K    100% |████████████████████████████████| 235kB 10.3MB/s ta 0:00:01    78% |█████████████████████████       | 184kB 18.9MB/s eta 0:00:01\n",
      "\u001b[?25hRequirement not upgraded as not directly required: cachetools>=2.0.0 in /Applications/anaconda3/lib/python3.6/site-packages (from textacy) (2.1.0)\n",
      "Requirement not upgraded as not directly required: tqdm>=4.11.1 in /Applications/anaconda3/lib/python3.6/site-packages (from textacy) (4.23.4)\n",
      "Collecting ftfy<5.0.0,>=4.2.0 (from textacy)\n",
      "\u001b[?25l  Downloading https://files.pythonhosted.org/packages/21/5d/9385540977b00df1f3a0c0f07b7e6c15b5e7a3109d7f6ae78a0a764dab22/ftfy-4.4.3.tar.gz (50kB)\n",
      "\u001b[K    100% |████████████████████████████████| 51kB 10.8MB/s ta 0:00:01\n",
      "\u001b[?25hCollecting ijson>=2.3 (from textacy)\n",
      "  Downloading https://files.pythonhosted.org/packages/7f/e9/8508c5f4987ba238a2b169e582c1f70a47272b22a2f1fb06b9318201bb9e/ijson-2.3-py2.py3-none-any.whl\n",
      "Requirement not upgraded as not directly required: spacy>=2.0.0 in /Applications/anaconda3/lib/python3.6/site-packages (from textacy) (2.0.12)\n",
      "Requirement not upgraded as not directly required: toolz>=0.8.0 in /Applications/anaconda3/lib/python3.6/site-packages (from cytoolz>=0.8.0->textacy) (0.9.0)\n",
      "Requirement not upgraded as not directly required: decorator>=4.1.0 in /Applications/anaconda3/lib/python3.6/site-packages (from networkx>=1.11->textacy) (4.3.0)\n",
      "Requirement not upgraded as not directly required: setuptools in /Applications/anaconda3/lib/python3.6/site-packages (from python-levenshtein>=0.12.0->textacy) (39.1.0)\n",
      "Requirement not upgraded as not directly required: chardet<3.1.0,>=3.0.2 in /Applications/anaconda3/lib/python3.6/site-packages (from requests>=2.10.0->textacy) (3.0.4)\n",
      "Requirement not upgraded as not directly required: idna<2.7,>=2.5 in /Applications/anaconda3/lib/python3.6/site-packages (from requests>=2.10.0->textacy) (2.6)\n",
      "Requirement not upgraded as not directly required: urllib3<1.23,>=1.21.1 in /Applications/anaconda3/lib/python3.6/site-packages (from requests>=2.10.0->textacy) (1.22)\n",
      "Requirement not upgraded as not directly required: certifi>=2017.4.17 in /Applications/anaconda3/lib/python3.6/site-packages (from requests>=2.10.0->textacy) (2018.4.16)\n",
      "Requirement not upgraded as not directly required: html5lib in /Applications/anaconda3/lib/python3.6/site-packages (from ftfy<5.0.0,>=4.2.0->textacy) (1.0.1)\n",
      "Requirement not upgraded as not directly required: wcwidth in /Applications/anaconda3/lib/python3.6/site-packages (from ftfy<5.0.0,>=4.2.0->textacy) (0.1.7)\n",
      "Requirement not upgraded as not directly required: plac<1.0.0,>=0.9.6 in /Applications/anaconda3/lib/python3.6/site-packages (from spacy>=2.0.0->textacy) (0.9.6)\n",
      "Requirement not upgraded as not directly required: regex==2017.4.5 in /Applications/anaconda3/lib/python3.6/site-packages (from spacy>=2.0.0->textacy) (2017.4.5)\n",
      "Requirement not upgraded as not directly required: ujson>=1.35 in /Applications/anaconda3/lib/python3.6/site-packages (from spacy>=2.0.0->textacy) (1.35)\n",
      "Requirement not upgraded as not directly required: preshed<2.0.0,>=1.0.0 in /Applications/anaconda3/lib/python3.6/site-packages (from spacy>=2.0.0->textacy) (1.0.1)\n",
      "Requirement not upgraded as not directly required: thinc<6.11.0,>=6.10.3 in /Applications/anaconda3/lib/python3.6/site-packages (from spacy>=2.0.0->textacy) (6.10.3)\n",
      "Requirement not upgraded as not directly required: cymem<1.32,>=1.30 in /Applications/anaconda3/lib/python3.6/site-packages (from spacy>=2.0.0->textacy) (1.31.2)\n",
      "Requirement not upgraded as not directly required: dill<0.3,>=0.2 in /Applications/anaconda3/lib/python3.6/site-packages (from spacy>=2.0.0->textacy) (0.2.8.2)\n",
      "Requirement not upgraded as not directly required: murmurhash<0.29,>=0.28 in /Applications/anaconda3/lib/python3.6/site-packages (from spacy>=2.0.0->textacy) (0.28.0)\n",
      "Requirement not upgraded as not directly required: six>=1.9 in /Applications/anaconda3/lib/python3.6/site-packages (from html5lib->ftfy<5.0.0,>=4.2.0->textacy) (1.11.0)\n",
      "Requirement not upgraded as not directly required: webencodings in /Applications/anaconda3/lib/python3.6/site-packages (from html5lib->ftfy<5.0.0,>=4.2.0->textacy) (0.5.1)\n",
      "Requirement not upgraded as not directly required: msgpack-numpy<1.0.0,>=0.4.1 in /Applications/anaconda3/lib/python3.6/site-packages (from thinc<6.11.0,>=6.10.3->spacy>=2.0.0->textacy) (0.4.3.1)\n",
      "Requirement not upgraded as not directly required: msgpack<1.0.0,>=0.5.6 in /Applications/anaconda3/lib/python3.6/site-packages (from thinc<6.11.0,>=6.10.3->spacy>=2.0.0->textacy) (0.5.6)\n",
      "Requirement not upgraded as not directly required: wrapt<1.11.0,>=1.10.0 in /Applications/anaconda3/lib/python3.6/site-packages (from thinc<6.11.0,>=6.10.3->spacy>=2.0.0->textacy) (1.10.11)\n",
      "Building wheels for collected packages: pyemd, python-levenshtein, ftfy\n",
      "  Running setup.py bdist_wheel for pyemd ... \u001b[?25ldone\n",
      "\u001b[?25h  Stored in directory: /Users/chloe/Library/Caches/pip/wheels/e4/ba/b0/1f4178a35c916b22fc51dc56f278125d4b8cfb0592e5f0cc24\n",
      "  Running setup.py bdist_wheel for python-levenshtein ... \u001b[?25ldone\n",
      "\u001b[?25h  Stored in directory: /Users/chloe/Library/Caches/pip/wheels/de/c2/93/660fd5f7559049268ad2dc6d81c4e39e9e36518766eaf7e342\n",
      "  Running setup.py bdist_wheel for ftfy ... \u001b[?25ldone\n",
      "\u001b[?25h  Stored in directory: /Users/chloe/Library/Caches/pip/wheels/37/54/00/d320239bfc8aad1455314f302dd82a75253fc585e17b81704e\n",
      "Successfully built pyemd python-levenshtein ftfy\n",
      "Installing collected packages: pyemd, pyphen, python-levenshtein, unidecode, ftfy, ijson, textacy\n",
      "Successfully installed ftfy-4.4.3 ijson-2.3 pyemd-0.5.1 pyphen-0.9.4 python-levenshtein-0.12.0 textacy-0.6.2 unidecode-1.0.22\n",
      "\u001b[33mYou are using pip version 10.0.1, however version 18.0 is available.\n",
      "You should consider upgrading via the 'pip install --upgrade pip' command.\u001b[0m\n"
     ]
    }
   ],
   "source": [
    "!pip install -U textacy "
   ]
  },
  {
   "cell_type": "code",
   "execution_count": 6,
   "metadata": {},
   "outputs": [],
   "source": [
    "import spacy "
   ]
  },
  {
   "cell_type": "code",
   "execution_count": 7,
   "metadata": {},
   "outputs": [],
   "source": [
    "nlp= spacy.load('en_core_web_lg') "
   ]
  },
  {
   "cell_type": "code",
   "execution_count": 9,
   "metadata": {},
   "outputs": [
    {
     "data": {
      "text/plain": [
       "\n",
       "London is the capital and most populous city of England and \n",
       "the United Kingdom.  Standing on the River Thames in the south east \n",
       "of the island of Great Britain, London has been a major settlement \n",
       "for two millennia. It was founded by the Romans, who named it Londinium."
      ]
     },
     "execution_count": 9,
     "metadata": {},
     "output_type": "execute_result"
    }
   ],
   "source": [
    "text= \"\"\"\n",
    "London is the capital and most populous city of England and \n",
    "the United Kingdom.  Standing on the River Thames in the south east \n",
    "of the island of Great Britain, London has been a major settlement \n",
    "for two millennia. It was founded by the Romans, who named it Londinium.\n",
    "\"\"\"\n",
    "\n",
    "doc= nlp(text) \n",
    "doc "
   ]
  },
  {
   "cell_type": "code",
   "execution_count": 15,
   "metadata": {},
   "outputs": [
    {
     "name": "stdout",
     "output_type": "stream",
     "text": [
      "London, 382, GPE\n",
      "England, 382, GPE\n",
      "the United Kingdom, 382, GPE\n",
      "the River Thames, 9191306739292312949, FAC\n",
      "Great Britain, 382, GPE\n",
      "London, 382, GPE\n",
      "two millennia, 388, DATE\n",
      "Romans, 379, NORP\n",
      "Londinium, 378, PERSON\n"
     ]
    }
   ],
   "source": [
    "for ent in doc.ents: \n",
    "    print(f'{ent.text}, {ent.label}, {ent.label_}')   "
   ]
  },
  {
   "cell_type": "code",
   "execution_count": 16,
   "metadata": {},
   "outputs": [
    {
     "name": "stdout",
     "output_type": "stream",
     "text": [
      "\n",
      "In 1950, [REDACTED] published his famous article \"Computing Machinery and Intelligence\". In 1957, [REDACTED] \n",
      "Syntactic Structures revolutionized Linguistics with 'universal grammar', a rule based system of syntactic structures.\n",
      "\n"
     ]
    }
   ],
   "source": [
    "import spacy\n",
    "\n",
    "nlp = spacy.load('en_core_web_lg')\n",
    "\n",
    "# Replace a token with \"REDACTED\" if it is a name\n",
    "def replace_name_with_placeholder(token):\n",
    "    if token.ent_iob != 0 and token.ent_type_ == \"PERSON\":\n",
    "        return \"[REDACTED] \"\n",
    "    else:\n",
    "        return token.string\n",
    "\n",
    "# Loop through all the entities in a document and check if they are names\n",
    "def scrub(text):\n",
    "    doc = nlp(text)\n",
    "    for ent in doc.ents:\n",
    "        ent.merge()\n",
    "    tokens = map(replace_name_with_placeholder, doc)\n",
    "    return \"\".join(tokens)\n",
    "\n",
    "s = \"\"\"\n",
    "In 1950, Alan Turing published his famous article \"Computing Machinery and Intelligence\". In 1957, Noam Chomsky’s \n",
    "Syntactic Structures revolutionized Linguistics with 'universal grammar', a rule based system of syntactic structures.\n",
    "\"\"\"\n",
    "\n",
    "print(scrub(s))  "
   ]
  },
  {
   "cell_type": "code",
   "execution_count": null,
   "metadata": {},
   "outputs": [],
   "source": []
  }
 ],
 "metadata": {
  "kernelspec": {
   "display_name": "Python 3",
   "language": "python",
   "name": "python3"
  },
  "language_info": {
   "codemirror_mode": {
    "name": "ipython",
    "version": 3
   },
   "file_extension": ".py",
   "mimetype": "text/x-python",
   "name": "python",
   "nbconvert_exporter": "python",
   "pygments_lexer": "ipython3",
   "version": "3.6.5"
  }
 },
 "nbformat": 4,
 "nbformat_minor": 2
}
