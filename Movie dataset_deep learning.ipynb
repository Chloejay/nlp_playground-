{
 "cells": [
  {
   "cell_type": "markdown",
   "metadata": {},
   "source": [
    "why I build this repo, for to clarify the whole data science pipeline and play around the movie datasets when I explore the new movie by Lady Gaga, which named <a href= 'https://www.themoviedb.org/movie/332562-a-star-is-born'>'A Star Is Born'</a>.   "
   ]
  },
  {
   "cell_type": "code",
   "execution_count": 1,
   "metadata": {},
   "outputs": [
    {
     "name": "stdout",
     "output_type": "stream",
     "text": [
      "Requirement already satisfied: urllib3 in /Applications/anaconda3/lib/python3.6/site-packages (1.22)\r\n"
     ]
    }
   ],
   "source": [
    "!pip install urllib3 "
   ]
  },
  {
   "cell_type": "code",
   "execution_count": 2,
   "metadata": {},
   "outputs": [],
   "source": [
    "#!brew install wget --with-libressl \n",
    "#!brew reinstall wget"
   ]
  },
  {
   "cell_type": "code",
   "execution_count": 3,
   "metadata": {},
   "outputs": [
    {
     "name": "stdout",
     "output_type": "stream",
     "text": [
      "Requirement already satisfied: IMDbPY in /Applications/anaconda3/lib/python3.6/site-packages (6.6)\n",
      "Requirement already satisfied: lxml in /Applications/anaconda3/lib/python3.6/site-packages (from IMDbPY) (4.0.0)\n",
      "Requirement already satisfied: SQLAlchemy in /Applications/anaconda3/lib/python3.6/site-packages (from IMDbPY) (1.2.7)\n"
     ]
    }
   ],
   "source": [
    "!pip install IMDbPY "
   ]
  },
  {
   "cell_type": "code",
   "execution_count": 4,
   "metadata": {},
   "outputs": [
    {
     "name": "stdout",
     "output_type": "stream",
     "text": [
      "Requirement already satisfied: tmdbsimple in /Applications/anaconda3/lib/python3.6/site-packages (2.2.0)\n",
      "Requirement already satisfied: requests in /Applications/anaconda3/lib/python3.6/site-packages (from tmdbsimple) (2.18.4)\n",
      "Requirement already satisfied: chardet<3.1.0,>=3.0.2 in /Applications/anaconda3/lib/python3.6/site-packages (from requests->tmdbsimple) (3.0.4)\n",
      "Requirement already satisfied: idna<2.7,>=2.5 in /Applications/anaconda3/lib/python3.6/site-packages (from requests->tmdbsimple) (2.6)\n",
      "Requirement already satisfied: urllib3<1.23,>=1.21.1 in /Applications/anaconda3/lib/python3.6/site-packages (from requests->tmdbsimple) (1.22)\n",
      "Requirement already satisfied: certifi>=2017.4.17 in /Applications/anaconda3/lib/python3.6/site-packages (from requests->tmdbsimple) (2018.8.13)\n"
     ]
    }
   ],
   "source": [
    "!pip install tmdbsimple "
   ]
  },
  {
   "cell_type": "code",
   "execution_count": 5,
   "metadata": {},
   "outputs": [],
   "source": [
    "import warnings\n",
    "warnings.filterwarnings('ignore')\n",
    "import torchvision\n",
    "import urllib3\n",
    "import requests\n",
    "import imdb\n",
    "import time\n",
    "import itertools\n",
    "import os\n",
    "import tmdbsimple as tmdb\n",
    "import numpy as np\n",
    "import random\n",
    "import matplotlib\n",
    "import matplotlib.pyplot as plt\n",
    "%matplotlib inline\n",
    "\n",
    "import seaborn as sns\n",
    "import pickle\n",
    "import sys "
   ]
  },
  {
   "cell_type": "code",
   "execution_count": 6,
   "metadata": {},
   "outputs": [
    {
     "data": {
      "text/plain": [
       "'A Star Is Born'"
      ]
     },
     "execution_count": 6,
     "metadata": {},
     "output_type": "execute_result"
    }
   ],
   "source": [
    "tmdb.API_KEY = 'dd89d686e43ea64e9ed3a4f510714cbb'\n",
    "movie = tmdb.Movies(332562)\n",
    "response = movie.info()\n",
    "movie.title"
   ]
  },
  {
   "cell_type": "code",
   "execution_count": 7,
   "metadata": {},
   "outputs": [
    {
     "data": {
      "text/plain": [
       "<html><body><p>{\"adult\":false,\"backdrop_path\":\"/9TP7FGdo9ppnuXX3DbB9RtzYKkh.jpg\",\"belongs_to_collection\":null,\"budget\":85000000,\"genres\":[{\"id\":35,\"name\":\"Comedy\"},{\"id\":10749,\"name\":\"Romance\"}],\"homepage\":\"http://www.sonypictures.com/movies/theholiday/\",\"id\":1581,\"imdb_id\":\"tt0457939\",\"original_language\":\"en\",\"original_title\":\"The Holiday\",\"overview\":\"Two women, one (Cameron Diaz) from America and one (Kate Winslet) from Britain, swap homes at Christmastime after bad breakups with their boyfriends. Each woman finds romance with a local man (Jude Law, Jack Black) but realizes that the imminent return home may end the relationship.\",\"popularity\":11.193,\"poster_path\":\"/ixNtpuq8OVp4IckgzkSJIflFDkw.jpg\",\"production_companies\":[{\"id\":735,\"logo_path\":null,\"name\":\"Waverly Films\",\"origin_country\":\"US\"},{\"id\":5,\"logo_path\":\"/71BqEFAF4V3qjjMPCpLuyJFB9A.png\",\"name\":\"Columbia Pictures\",\"origin_country\":\"US\"},{\"id\":33,\"logo_path\":\"/8lvHyhjr8oUKOOy2dKXoALWKdp0.png\",\"name\":\"Universal Pictures\",\"origin_country\":\"US\"},{\"id\":7295,\"logo_path\":\"/5MYE96QiE5a5oFhXxFb4y8ILSpw.png\",\"name\":\"Relativity Media\",\"origin_country\":\"US\"}],\"production_countries\":[{\"iso_3166_1\":\"GB\",\"name\":\"United Kingdom\"},{\"iso_3166_1\":\"US\",\"name\":\"United States of America\"}],\"release_date\":\"2006-12-08\",\"revenue\":194168700,\"runtime\":136,\"spoken_languages\":[{\"iso_639_1\":\"en\",\"name\":\"English\"}],\"status\":\"Released\",\"tagline\":\"It's Christmas Eve and we are going to go celebrate being young and being alive.\",\"title\":\"The Holiday\",\"video\":false,\"vote_average\":6.9,\"vote_count\":2022}</p></body></html>"
      ]
     },
     "execution_count": 7,
     "metadata": {},
     "output_type": "execute_result"
    }
   ],
   "source": [
    "from bs4 import BeautifulSoup\n",
    "url = 'https://api.themoviedb.org/3/movie/1581?api_key=dd89d686e43ea64e9ed3a4f510714cbb'\n",
    "http = urllib3.PoolManager()\n",
    "res = http.request('GET', url)\n",
    "soup = BeautifulSoup(res.data,'lxml') \n",
    "soup "
   ]
  },
  {
   "cell_type": "code",
   "execution_count": 8,
   "metadata": {},
   "outputs": [
    {
     "name": "stdout",
     "output_type": "stream",
     "text": [
      "Folder already exists\n"
     ]
    }
   ],
   "source": [
    "import os\n",
    "movie_folder='movie_file/'\n",
    "if movie_folder.split('/')[0] in os.listdir('./'):\n",
    "    print('Folder already exists')\n",
    "else:\n",
    "    os.mkdir('./'+ movie_folder) "
   ]
  },
  {
   "cell_type": "code",
   "execution_count": 9,
   "metadata": {},
   "outputs": [
    {
     "data": {
      "text/plain": [
       "'movie_file/'"
      ]
     },
     "execution_count": 9,
     "metadata": {},
     "output_type": "execute_result"
    }
   ],
   "source": [
    "movie_folder"
   ]
  },
  {
   "cell_type": "code",
   "execution_count": 10,
   "metadata": {},
   "outputs": [],
   "source": [
    "import tmdbsimple as tmdb\n",
    "api_key = 'dd89d686e43ea64e9ed3a4f510714cbb'\n",
    "tmdb.API_KEY = api_key \n",
    "search = tmdb.Search() \n",
    "\n",
    "import os.path \n",
    "def grab_poster_tmdb(movie):\n",
    "    res = search.movie(query=movie)\n",
    "    id=res['results'][0]['id']\n",
    "    movie = tmdb.Movies(id)\n",
    "    posterp=movie.info()['poster_path']\n",
    "    title=movie.info()['original_title']\n",
    "    if os.path.isfile(movie_folder+title+'.jpg '):\n",
    "        return\n",
    "    url='image.tmdb.org/t/p/original'+posterp\n",
    "    title='_'.join(title.split(' '))\n",
    "    strcmd='wget -O '+movie_folder+title+'.jpg '+url\n",
    "    os.system(strcmd) \n",
    "    \n",
    "def get_movie_id_tmdb(movie):\n",
    "    res = search.movie(query=movie)\n",
    "    movie_id=res['results'][0]['id']\n",
    "    return movie_id\n",
    "\n",
    "def get_movie_info_tmdb(movie):\n",
    "    res = search.movie(query=movie)\n",
    "    id=res['results'][0]['id']\n",
    "    movie = tmdb.Movies(id)\n",
    "    info=movie.info()\n",
    "    return info\n",
    "\n",
    "def get_movie_genres_tmdb(movie):\n",
    "    res = search.movie(query=movie)\n",
    "    id=res['results'][0]['id']\n",
    "    movie = tmdb.Movies(id)\n",
    "    genres=movie.info()['genres']\n",
    "    return genres"
   ]
  },
  {
   "cell_type": "code",
   "execution_count": 11,
   "metadata": {},
   "outputs": [
    {
     "name": "stdout",
     "output_type": "stream",
     "text": [
      "[{'id': 18, 'name': 'Drama'}, {'id': 10402, 'name': 'Music'}, {'id': 10749, 'name': 'Romance'}]\n"
     ]
    }
   ],
   "source": [
    "print (get_movie_genres_tmdb(\"A Star is born\")) "
   ]
  },
  {
   "cell_type": "code",
   "execution_count": 12,
   "metadata": {},
   "outputs": [
    {
     "data": {
      "text/plain": [
       "dict_keys(['adult', 'backdrop_path', 'belongs_to_collection', 'budget', 'genres', 'homepage', 'id', 'imdb_id', 'original_language', 'original_title', 'overview', 'popularity', 'poster_path', 'production_companies', 'production_countries', 'release_date', 'revenue', 'runtime', 'spoken_languages', 'status', 'tagline', 'title', 'video', 'vote_average', 'vote_count'])"
      ]
     },
     "execution_count": 12,
     "metadata": {},
     "output_type": "execute_result"
    }
   ],
   "source": [
    "get_movie_info_tmdb(\"A star is born\").keys() "
   ]
  },
  {
   "cell_type": "code",
   "execution_count": 13,
   "metadata": {},
   "outputs": [
    {
     "name": "stdout",
     "output_type": "stream",
     "text": [
      "Seasoned musician Jackson Maine discovers—and falls in love with—struggling artist Ally. She has just about given up on her dream to make it big as a singer—until Jack coaxes her into the spotlight. But even as Ally's career takes off, the personal side of their relationship is breaking down, as Jack fights an ongoing battle with his own internal demons.\n"
     ]
    }
   ],
   "source": [
    "name=get_movie_info_tmdb(\"A Star is Born\")\n",
    "print (name['overview'])   "
   ]
  },
  {
   "cell_type": "code",
   "execution_count": 14,
   "metadata": {},
   "outputs": [
    {
     "name": "stdout",
     "output_type": "stream",
     "text": [
      "20\n"
     ]
    },
    {
     "data": {
      "text/plain": [
       "['title',\n",
       " 'kind',\n",
       " 'year',\n",
       " 'cast',\n",
       " 'genres',\n",
       " 'runtimes',\n",
       " 'countries',\n",
       " 'country codes',\n",
       " 'language codes',\n",
       " 'color info',\n",
       " 'aspect ratio',\n",
       " 'sound mix',\n",
       " 'certificates',\n",
       " 'original air date',\n",
       " 'rating',\n",
       " 'votes',\n",
       " 'cover url',\n",
       " 'plot outline',\n",
       " 'languages',\n",
       " 'directors',\n",
       " 'writers',\n",
       " 'producers',\n",
       " 'cinematographers',\n",
       " 'editors',\n",
       " 'editorial department',\n",
       " 'casting directors',\n",
       " 'production designers',\n",
       " 'art directors',\n",
       " 'set decorators',\n",
       " 'costume designers',\n",
       " 'make up department',\n",
       " 'production managers',\n",
       " 'assistant directors',\n",
       " 'art department',\n",
       " 'sound department',\n",
       " 'special effects',\n",
       " 'visual effects',\n",
       " 'stunts',\n",
       " 'camera department',\n",
       " 'casting department',\n",
       " 'costume departmen',\n",
       " 'location management',\n",
       " 'music department',\n",
       " 'transportation department',\n",
       " 'miscellaneous',\n",
       " 'thanks',\n",
       " 'akas',\n",
       " 'writer',\n",
       " 'director',\n",
       " 'top 250 rank',\n",
       " 'production companies',\n",
       " 'distributors',\n",
       " 'special effects companies',\n",
       " 'other companies',\n",
       " 'plot',\n",
       " 'synopsis',\n",
       " 'canonical title',\n",
       " 'long imdb title',\n",
       " 'long imdb canonical title',\n",
       " 'smart canonical title',\n",
       " 'smart long imdb canonical title',\n",
       " 'full-size cover url']"
      ]
     },
     "execution_count": 14,
     "metadata": {},
     "output_type": "execute_result"
    }
   ],
   "source": [
    "#Get data from imdb \n",
    "import imdb\n",
    "imbd_object = imdb.IMDb() \n",
    "movie = imbd_object.search_movie('A Star is born')\n",
    "print(len(movie))\n",
    "movie = movie[0]\n",
    "imbd_object.update(movie)\n",
    "movie.keys() "
   ]
  },
  {
   "cell_type": "code",
   "execution_count": 15,
   "metadata": {},
   "outputs": [
    {
     "name": "stdout",
     "output_type": "stream",
     "text": [
      "[{'vote_count': 1613, 'id': 335983, 'video': False, 'vote_average': 6.6, 'title': 'Venom', 'popularity': 376.826, 'poster_path': '/2uNW4WbgBXL25BAbXGLnLqX71Sw.jpg', 'original_language': 'en', 'original_title': 'Venom', 'genre_ids': [878, 28, 80, 28, 27], 'backdrop_path': '/VuukZLgaCrho2Ar8Scl9HtV3yD.jpg', 'adult': False, 'overview': 'When Eddie Brock acquires the powers of a symbiote, he will have to release his alter-ego \"Venom\" to save his life.', 'release_date': '2018-10-03'}, {'vote_count': 248, 'id': 424139, 'video': False, 'vote_average': 6.8, 'title': 'Halloween', 'popularity': 256.554, 'poster_path': '/lNkDYKmrVem1J0aAfCnQlJOCKnT.jpg', 'original_language': 'en', 'original_title': 'Halloween', 'genre_ids': [27, 53], 'backdrop_path': '/hO1oTBGNxO5fBKVEuWnSpICJH7c.jpg', 'adult': False, 'overview': 'Laurie Strode comes to her final confrontation with Michael Myers, the masked figure who has haunted her since she narrowly escaped his killing spree on Halloween night four decades ago.', 'release_date': '2018-10-18'}, {'vote_count': 1054, 'id': 332562, 'video': False, 'vote_average': 7.5, 'title': 'A Star Is Born', 'popularity': 185.508, 'poster_path': '/wrFpXMNBRj2PBiN4Z5kix51XaIZ.jpg', 'original_language': 'en', 'original_title': 'A Star Is Born', 'genre_ids': [18, 10402, 10749], 'backdrop_path': '/840rbblaLc4SVxm8gF3DNdJ0YAE.jpg', 'adult': False, 'overview': \"Seasoned musician Jackson Maine discovers—and falls in love with—struggling artist Ally. She has just about given up on her dream to make it big as a singer—until Jack coaxes her into the spotlight. But even as Ally's career takes off, the personal side of their relationship is breaking down, as Jack fights an ongoing battle with his own internal demons.\", 'release_date': '2018-10-03'}, {'vote_count': 45, 'id': 507569, 'video': False, 'vote_average': 5.8, 'title': 'The Seven Deadly Sins: Prisoners of the Sky', 'popularity': 177.553, 'poster_path': '/r6pPUVUKU5eIpYj4oEzidk5ZibB.jpg', 'original_language': 'ja', 'original_title': '劇場版 七つの大罪 天空の囚われ人', 'genre_ids': [28, 12, 14, 16], 'backdrop_path': '/uKwOX7MtKlAaGeCQe6c4jc1vZpj.jpg', 'adult': False, 'overview': 'Traveling in search of the rare ingredient, “sky fish”  Meliodas and Hawk arrive at a palace that floats above the clouds. The people there are busy preparing a ceremony, meant to protect their home from a ferocious beast that awakens once every 3,000 years. But before the ritual is complete, the Six Knights of Black—a Demon Clan army—removes the seal on the beast, threatening the lives of everyone in the Sky Palace.', 'release_date': '2018-08-18'}, {'vote_count': 3050, 'id': 260513, 'video': False, 'vote_average': 7.6, 'title': 'Incredibles 2', 'popularity': 173.778, 'poster_path': '/x1txcDXkcM65gl7w20PwYSxAYah.jpg', 'original_language': 'en', 'original_title': 'Incredibles 2', 'genre_ids': [28, 12, 16, 10751], 'backdrop_path': '/mabuNsGJgRuCTuGqjFkWe1xdu19.jpg', 'adult': False, 'overview': 'Elastigirl springs into action to save the day, while Mr. Incredible faces his greatest challenge yet – taking care of the problems of his three children.', 'release_date': '2018-06-14'}, {'vote_count': 163, 'id': 347375, 'video': False, 'vote_average': 5.7, 'title': 'Mile 22', 'popularity': 134.698, 'poster_path': '/ptSrT1JwZFWGhjSpYUtJaasQrh.jpg', 'original_language': 'en', 'original_title': 'Mile 22', 'genre_ids': [28], 'backdrop_path': '/eTwftrInxzZTSLUkX5hoifOczKJ.jpg', 'adult': False, 'overview': 'A CIA field officer and an Indonesian police officer are forced to work together in confronting political corruption. An informant must be moved twenty-two miles to safety.', 'release_date': '2018-08-16'}, {'vote_count': 8955, 'id': 299536, 'video': False, 'vote_average': 8.3, 'title': 'Avengers: Infinity War', 'popularity': 120.169, 'poster_path': '/7WsyChQLEftFiDOVTGkv3hFpyyt.jpg', 'original_language': 'en', 'original_title': 'Avengers: Infinity War', 'genre_ids': [12, 878, 28, 14], 'backdrop_path': '/lmZFxXgJE3vgrciwuDib0N8CfQo.jpg', 'adult': False, 'overview': 'As the Avengers and their allies have continued to protect the world from threats too large for any one hero to handle, a new danger has emerged from the cosmic shadows: Thanos. A despot of intergalactic infamy, his goal is to collect all six Infinity Stones, artifacts of unimaginable power, and use them to inflict his twisted will on all of reality. Everything the Avengers have fought for has led up to this moment - the fate of Earth and existence itself has never been more uncertain.', 'release_date': '2018-04-25'}, {'vote_count': 659, 'id': 346910, 'video': False, 'vote_average': 5.3, 'title': 'The Predator', 'popularity': 109.694, 'poster_path': '/wMq9kQXTeQCHUZOG4fAe5cAxyUA.jpg', 'original_language': 'en', 'original_title': 'The Predator', 'genre_ids': [27, 878, 28, 53], 'backdrop_path': '/f4E0ocYeToEuXvczZv6QArrMDJ.jpg', 'adult': False, 'overview': 'From the outer reaches of space to the small-town streets of suburbia, the hunt comes home. Now, the universe’s most lethal hunters are stronger, smarter and deadlier than ever before, having genetically upgraded themselves with DNA from other species. When a young boy accidentally triggers their return to Earth, only a ragtag crew of ex-soldiers and a disgruntled science teacher can prevent the end of the human race.', 'release_date': '2018-09-13'}, {'vote_count': 318, 'id': 399360, 'video': False, 'vote_average': 5.2, 'title': 'Alpha', 'popularity': 108.38, 'poster_path': '/afdZAIcAQscziqVtsEoh2PwsYTW.jpg', 'original_language': 'en', 'original_title': 'Alpha', 'genre_ids': [12, 18], 'backdrop_path': '/nKMeTdm72LQ756Eq20uTjF1zDXu.jpg', 'adult': False, 'overview': 'After a hunting expedition goes awry, a young caveman struggles against the elements to find his way home.', 'release_date': '2018-08-17'}, {'vote_count': 2969, 'id': 363088, 'video': False, 'vote_average': 7, 'title': 'Ant-Man and the Wasp', 'popularity': 108.274, 'poster_path': '/rv1AWImgx386ULjcf62VYaW8zSt.jpg', 'original_language': 'en', 'original_title': 'Ant-Man and the Wasp', 'genre_ids': [28, 12, 878, 10749, 35, 10751], 'backdrop_path': '/6P3c80EOm7BodndGBUAJHHsHKrp.jpg', 'adult': False, 'overview': 'Just when his time under house arrest is about to end, Scott Lang puts again his freedom at risk to help Hope van Dyne and Dr. Hank Pym dive into the quantum realm and try to accomplish, against time and any chance of success, a very dangerous rescue mission.', 'release_date': '2018-07-04'}, {'vote_count': 306, 'id': 369972, 'video': False, 'vote_average': 7.2, 'title': 'First Man', 'popularity': 103.122, 'poster_path': '/i91mfvFcPPlaegcbOyjGgiWfZzh.jpg', 'original_language': 'en', 'original_title': 'First Man', 'genre_ids': [36, 18], 'backdrop_path': '/z6ZANhPCcPl1HsKGjY5iZALf65V.jpg', 'adult': False, 'overview': 'A look at the life of the astronaut, Neil Armstrong, and the legendary space mission that led him to become the first man to walk on the Moon on July 20, 1969.', 'release_date': '2018-10-11'}, {'vote_count': 231, 'id': 463272, 'video': False, 'vote_average': 6.2, 'title': 'Johnny English Strikes Again', 'popularity': 91.141, 'poster_path': '/tCBxnZwLiY1BOKw3tH6AxHZdqPh.jpg', 'original_language': 'en', 'original_title': 'Johnny English Strikes Again', 'genre_ids': [12, 10751, 28, 35], 'backdrop_path': '/yCOLqh5MOGyYdo58Ap0aWvKop9h.jpg', 'adult': False, 'overview': 'Disaster strikes when a criminal mastermind reveals the identities of all active undercover agents in Britain. The secret service can now rely on only one man—Johnny English. Currently teaching at a minor prep school, Johnny springs back into action to find the mysterious hacker. For this mission to succeed, he’ll need all of his skills—what few he has—as the man with yesterday’s analogue methods faces off against tomorrow’s digital technology.', 'release_date': '2018-09-13'}, {'vote_count': 1198, 'id': 439079, 'video': False, 'vote_average': 5.8, 'title': 'The Nun', 'popularity': 87.183, 'poster_path': '/sFC1ElvoKGdHJIWRpNB3xWJ9lJA.jpg', 'original_language': 'en', 'original_title': 'The Nun', 'genre_ids': [27, 9648, 53], 'backdrop_path': '/fgsHxz21B27hOOqQBiw9L6yWcM7.jpg', 'adult': False, 'overview': 'When a young nun at a cloistered abbey in Romania takes her own life, a priest with a haunted past and a novitiate on the threshold of her final vows are sent by the Vatican to investigate. Together they uncover the order’s unholy secret. Risking not only their lives but their faith and their very souls, they confront a malevolent force in the form of the same demonic nun that first terrorized audiences in “The Conjuring 2,” as the abbey becomes a horrific battleground between the living and the damned.', 'release_date': '2018-09-05'}, {'vote_count': 8689, 'id': 284054, 'video': False, 'vote_average': 7.3, 'title': 'Black Panther', 'popularity': 86.12, 'poster_path': '/uxzzxijgPIY7slzFvMotPv8wjKA.jpg', 'original_language': 'en', 'original_title': 'Black Panther', 'genre_ids': [28, 12, 14, 878], 'backdrop_path': '/b6ZJZHUdMEFECvGiDpJjlfUWela.jpg', 'adult': False, 'overview': \"King T'Challa returns home from America to the reclusive, technologically advanced African nation of Wakanda to serve as his country's new leader. However, T'Challa soon finds that he is challenged for the throne by factions within his own country as well as without. Using powers reserved to Wakandan kings, T'Challa assumes the Black Panther mantel to join with girlfriend Nakia, the queen-mother, his princess-kid sister, members of the Dora Milaje (the Wakandan 'special forces') and an American secret agent, to prevent Wakanda from being dragged into a world war.\", 'release_date': '2018-02-13'}, {'vote_count': 716, 'id': 487558, 'video': False, 'vote_average': 7.5, 'title': 'BlacKkKlansman', 'popularity': 84.854, 'poster_path': '/bT5WuAsjDJYQv2vXbWGDQTmjKav.jpg', 'original_language': 'en', 'original_title': 'BlacKkKlansman', 'genre_ids': [80, 18, 35, 36], 'backdrop_path': '/gMVdhfQ7q9DFHhDkehrququjGPd.jpg', 'adult': False, 'overview': 'Ron Stallworth, an African-American police officer from Colorado, successfully manages to infiltrate the local Ku Klux Klan and become the head of the local chapter.', 'release_date': '2018-08-09'}, {'vote_count': 98, 'id': 454293, 'video': False, 'vote_average': 6.3, 'title': 'Night School', 'popularity': 80.959, 'poster_path': '/1NSMAaBPSbWv7sGmF8oLGMNb8Qm.jpg', 'original_language': 'en', 'original_title': 'Night School', 'genre_ids': [35], 'backdrop_path': '/7CWpvqVY5JWbEtkaenzqfJjVSal.jpg', 'adult': False, 'overview': \"Teddy Walker is a successful salesman whose life takes an unexpected turn when he accidentally blows up his place of employment. Forced to attend night school to get his GED, Teddy soon finds himself dealing with a group of misfit students, his former high school nemesis and a feisty teacher who doesn't think he's too bright.\", 'release_date': '2018-09-27'}, {'vote_count': 293, 'id': 454992, 'video': False, 'vote_average': 6.4, 'title': 'The Spy Who Dumped Me', 'popularity': 78.23, 'poster_path': '/2lIr27lBdxCpzYDl6WUHzzD6l6H.jpg', 'original_language': 'en', 'original_title': 'The Spy Who Dumped Me', 'genre_ids': [28, 35, 12], 'backdrop_path': '/uN6v3Hz4qI2CIqT1Ro4vPgAbub3.jpg', 'adult': False, 'overview': 'Audrey and Morgan are best friends who unwittingly become entangled in an international conspiracy when one of the women discovers the boyfriend who dumped her was actually a spy.', 'release_date': '2018-08-02'}, {'vote_count': 8740, 'id': 284053, 'video': False, 'vote_average': 7.5, 'title': 'Thor: Ragnarok', 'popularity': 68.661, 'poster_path': '/rzRwTcFvttcN1ZpX2xv4j3tSdJu.jpg', 'original_language': 'en', 'original_title': 'Thor: Ragnarok', 'genre_ids': [28, 12, 35, 14, 878], 'backdrop_path': '/kaIfm5ryEOwYg8mLbq8HkPuM1Fo.jpg', 'adult': False, 'overview': 'Thor is on the other side of the universe and finds himself in a race against time to get back to Asgard to stop Ragnarok, the prophecy of destruction to his homeworld and the end of Asgardian civilization, at the hands of an all-powerful new threat, the ruthless Hela.', 'release_date': '2017-10-25'}, {'vote_count': 864, 'id': 458423, 'video': False, 'vote_average': 7.5, 'title': 'Mamma Mia! Here We Go Again', 'popularity': 66.053, 'poster_path': '/aWicerX4Y7n7tUwRAVHsVcBBpj2.jpg', 'original_language': 'en', 'original_title': 'Mamma Mia! Here We Go Again', 'genre_ids': [35, 10749, 10402], 'backdrop_path': '/kAErJpVU4ul9R3VzroM8awWrlT2.jpg', 'adult': False, 'overview': 'Five years after meeting her three fathers, Sophie Sheridan prepares to open her mother’s hotel. In 1979, young Donna Sheridan meets the men who each could be Sophie’s biological father.', 'release_date': '2018-07-18'}, {'vote_count': 4058, 'id': 351286, 'video': False, 'vote_average': 6.5, 'title': 'Jurassic World: Fallen Kingdom', 'popularity': 65.366, 'poster_path': '/c9XxwwhPHdaImA2f1WEfEsbhaFB.jpg', 'original_language': 'en', 'original_title': 'Jurassic World: Fallen Kingdom', 'genre_ids': [28, 12, 878], 'backdrop_path': '/3s9O5af2xWKWR5JzP2iJZpZeQQg.jpg', 'adult': False, 'overview': 'Three years after the demise of Jurassic World, a volcanic eruption threatens the remaining dinosaurs on the isla Nublar, so Claire Dearing, the former park manager, recruits Owen Grady to help prevent the extinction of the dinosaurs once again.', 'release_date': '2018-06-06'}]\n"
     ]
    }
   ],
   "source": [
    "all_movies=tmdb.Movies()\n",
    "top_movies=all_movies.popular()\n",
    "top20_movies=top_movies['results'] \n",
    "print(top20_movies) "
   ]
  },
  {
   "cell_type": "code",
   "execution_count": 16,
   "metadata": {},
   "outputs": [
    {
     "name": "stdout",
     "output_type": "stream",
     "text": [
      "{'vote_count': 306, 'id': 369972, 'video': False, 'vote_average': 7.2, 'title': 'First Man', 'popularity': 103.122, 'poster_path': '/i91mfvFcPPlaegcbOyjGgiWfZzh.jpg', 'original_language': 'en', 'original_title': 'First Man', 'genre_ids': [36, 18], 'backdrop_path': '/z6ZANhPCcPl1HsKGjY5iZALf65V.jpg', 'adult': False, 'overview': 'A look at the life of the astronaut, Neil Armstrong, and the legendary space mission that led him to become the first man to walk on the Moon on July 20, 1969.', 'release_date': '2018-10-11'}\n",
      "\n",
      "The overview of the sample movie is -  A look at the life of the astronaut, Neil Armstrong, and the legendary space mission that led him to become the first man to walk on the Moon on July 20, 1969.\n"
     ]
    }
   ],
   "source": [
    "sample_movie=top20_movies[10]\n",
    "print (sample_movie)\n",
    "print (\"\\nThe overview of the sample movie is - \", sample_movie['overview']) "
   ]
  },
  {
   "cell_type": "code",
   "execution_count": 17,
   "metadata": {},
   "outputs": [
    {
     "name": "stdout",
     "output_type": "stream",
     "text": [
      "Venom\n",
      "Halloween\n",
      "A Star Is Born\n",
      "The Seven Deadly Sins: Prisoners of the Sky\n",
      "Incredibles 2\n",
      "Mile 22\n",
      "Avengers: Infinity War\n",
      "The Predator\n",
      "Alpha\n",
      "Ant-Man and the Wasp\n",
      "First Man\n"
     ]
    }
   ],
   "source": [
    "for i in range(len(top20_movies)):\n",
    "    movie=top20_movies[i]\n",
    "    title=movie['title']\n",
    "    print (title)\n",
    "    if i==10:\n",
    "        break \n",
    "#A star is born is rank on top 3 "
   ]
  },
  {
   "cell_type": "code",
   "execution_count": 18,
   "metadata": {},
   "outputs": [
    {
     "name": "stdout",
     "output_type": "stream",
     "text": [
      "[878, 28, 80, 28, 27]\n",
      "[27, 53]\n",
      "[18, 10402, 10749]\n",
      "[28, 12, 14, 16]\n",
      "[28, 12, 16, 10751]\n",
      "[28]\n",
      "[12, 878, 28, 14]\n",
      "[27, 878, 28, 53]\n",
      "[12, 18]\n",
      "[28, 12, 878, 10749, 35, 10751]\n",
      "[36, 18]\n"
     ]
    }
   ],
   "source": [
    "for i in range(len(top20_movies)):\n",
    "    movie=top20_movies[i]\n",
    "    genres=movie['genre_ids']\n",
    "    print (genres)\n",
    "    if i==10:\n",
    "        break "
   ]
  },
  {
   "cell_type": "code",
   "execution_count": 19,
   "metadata": {},
   "outputs": [
    {
     "data": {
      "text/plain": [
       "[{'id': 28, 'name': 'Action'},\n",
       " {'id': 12, 'name': 'Adventure'},\n",
       " {'id': 16, 'name': 'Animation'},\n",
       " {'id': 35, 'name': 'Comedy'},\n",
       " {'id': 80, 'name': 'Crime'},\n",
       " {'id': 99, 'name': 'Documentary'},\n",
       " {'id': 18, 'name': 'Drama'},\n",
       " {'id': 10751, 'name': 'Family'},\n",
       " {'id': 14, 'name': 'Fantasy'},\n",
       " {'id': 36, 'name': 'History'},\n",
       " {'id': 27, 'name': 'Horror'},\n",
       " {'id': 10402, 'name': 'Music'},\n",
       " {'id': 9648, 'name': 'Mystery'},\n",
       " {'id': 10749, 'name': 'Romance'},\n",
       " {'id': 878, 'name': 'Science Fiction'},\n",
       " {'id': 10770, 'name': 'TV Movie'},\n",
       " {'id': 53, 'name': 'Thriller'},\n",
       " {'id': 10752, 'name': 'War'},\n",
       " {'id': 37, 'name': 'Western'}]"
      ]
     },
     "execution_count": 19,
     "metadata": {},
     "output_type": "execute_result"
    }
   ],
   "source": [
    "genres=tmdb.Genres()\n",
    "list_of_genres=genres.movie_list()['genres'] \n",
    "list_of_genres"
   ]
  },
  {
   "cell_type": "code",
   "execution_count": 20,
   "metadata": {},
   "outputs": [],
   "source": [
    "Genre_ID_to_name={}\n",
    "for i in range(len(list_of_genres)):\n",
    "    genre_id=list_of_genres[i]['id']\n",
    "    genre_name=list_of_genres[i]['name']\n",
    "    Genre_ID_to_name[genre_id]=genre_name "
   ]
  },
  {
   "cell_type": "code",
   "execution_count": 21,
   "metadata": {},
   "outputs": [
    {
     "name": "stdout",
     "output_type": "stream",
     "text": [
      "Venom ['Science Fiction', 'Action', 'Crime', 'Action', 'Horror']\n",
      "Halloween ['Horror', 'Thriller']\n",
      "A Star Is Born ['Drama', 'Music', 'Romance']\n",
      "The Seven Deadly Sins: Prisoners of the Sky ['Action', 'Adventure', 'Fantasy', 'Animation']\n",
      "Incredibles 2 ['Action', 'Adventure', 'Animation', 'Family']\n",
      "Mile 22 ['Action']\n"
     ]
    }
   ],
   "source": [
    "for i in range(len(top20_movies)):\n",
    "    mov=top20_movies[i]\n",
    "    title=mov['title']\n",
    "    genre_ids=mov['genre_ids']\n",
    "    genre_names=[]\n",
    "    for id in genre_ids:\n",
    "        genre_name=Genre_ID_to_name[id]\n",
    "        genre_names.append(genre_name)\n",
    "    print (title,genre_names)\n",
    "    if i==5:\n",
    "        break "
   ]
  },
  {
   "cell_type": "markdown",
   "metadata": {},
   "source": []
  },
  {
   "cell_type": "code",
   "execution_count": 22,
   "metadata": {},
   "outputs": [],
   "source": [
    "all_movies=tmdb.Movies()\n",
    "top_movies=all_movies.popular()\n",
    "len(top_movies['results'])\n",
    "top20_movies=top_movies['results'] "
   ]
  },
  {
   "cell_type": "code",
   "execution_count": 23,
   "metadata": {},
   "outputs": [
    {
     "name": "stdout",
     "output_type": "stream",
     "text": [
      "Pulling movie list, Please wait...\n",
      "Done!\n"
     ]
    }
   ],
   "source": [
    "all_movies=tmdb.Movies()\n",
    "top1000_movies=[]\n",
    "print('Pulling movie list, Please wait...')\n",
    "for i in range(1,51):\n",
    "    if i%15==0:\n",
    "        time.sleep(7)\n",
    "    movies_on_this_page=all_movies.popular(page=i)['results']\n",
    "    top1000_movies.extend(movies_on_this_page)\n",
    "len(top1000_movies)\n",
    "f1=open('movie_list.pckl','wb')\n",
    "pickle.dump(top1000_movies,f1)\n",
    "f1.close()\n",
    "print('Done!') "
   ]
  },
  {
   "cell_type": "code",
   "execution_count": 24,
   "metadata": {},
   "outputs": [],
   "source": [
    "f1=open('movie_list.pckl','rb')\n",
    "top1000_movies=pickle.load(f1)\n",
    "f1.close() "
   ]
  },
  {
   "cell_type": "code",
   "execution_count": 25,
   "metadata": {},
   "outputs": [],
   "source": [
    "def list2pairs(j):\n",
    "    pairs = list(itertools.combinations(j, 2))\n",
    "    for i in j:\n",
    "        pairs.append([i,i])\n",
    "    return pairs "
   ]
  },
  {
   "cell_type": "code",
   "execution_count": 26,
   "metadata": {},
   "outputs": [],
   "source": [
    "allPairs = []\n",
    "for movie in top1000_movies:\n",
    "    allPairs.extend(list2pairs(movie['genre_ids']))\n",
    "    \n",
    "nr_ids = np.unique(allPairs)\n",
    "visGrid = np.zeros((len(nr_ids), len(nr_ids)))\n",
    "for p in allPairs:\n",
    "    visGrid[np.argwhere(nr_ids==p[0]), \n",
    "            np.argwhere(nr_ids==p[1])]+=1\n",
    "    if p[1] != p[0]:\n",
    "        visGrid[np.argwhere(nr_ids==p[1]), \n",
    "                np.argwhere(nr_ids==p[0])]+=1 "
   ]
  },
  {
   "cell_type": "code",
   "execution_count": 27,
   "metadata": {},
   "outputs": [
    {
     "name": "stdout",
     "output_type": "stream",
     "text": [
      "(19, 19)\n",
      "19\n"
     ]
    }
   ],
   "source": [
    "print (visGrid.shape)\n",
    "print (len(Genre_ID_to_name.keys()))  "
   ]
  },
  {
   "cell_type": "code",
   "execution_count": 28,
   "metadata": {},
   "outputs": [
    {
     "data": {
      "text/plain": [
       "<matplotlib.axes._subplots.AxesSubplot at 0x1a0d8e74e0>"
      ]
     },
     "execution_count": 28,
     "metadata": {},
     "output_type": "execute_result"
    },
    {
     "data": {
      "image/png": "[encoded data removed]",
      "text/plain": [
       "<Figure size 432x288 with 2 Axes>"
      ]
     },
     "metadata": {},
     "output_type": "display_data"
    }
   ],
   "source": [
    "annot_lookup = []\n",
    "\n",
    "for i in range(len(nr_ids)):\n",
    "    annot_lookup.append(Genre_ID_to_name[nr_ids[i]])\n",
    "sns.heatmap(visGrid, \n",
    "            xticklabels=annot_lookup, \n",
    "            yticklabels=annot_lookup)  "
   ]
  },
  {
   "cell_type": "code",
   "execution_count": 29,
   "metadata": {},
   "outputs": [
    {
     "data": {
      "image/png": "[encoded data removed]",
      "text/plain": [
       "<Figure size 432x288 with 2 Axes>"
      ]
     },
     "metadata": {},
     "output_type": "display_data"
    }
   ],
   "source": [
    "from sklearn.cluster import SpectralCoclustering \n",
    "model = SpectralCoclustering(n_clusters=8)\n",
    "model.fit(visGrid)\n",
    "\n",
    "fit_data = visGrid[np.argsort(model.row_labels_)]\n",
    "fit_data = fit_data[:, np.argsort(model.column_labels_)]\n",
    "\n",
    "annot_lookup_sorted = []\n",
    "for i in np.argsort(model.row_labels_):\n",
    "    annot_lookup_sorted.append(Genre_ID_to_name[nr_ids[i]])\n",
    "    \n",
    "sns.heatmap(fit_data, \n",
    "            xticklabels=annot_lookup_sorted, \n",
    "            yticklabels=annot_lookup_sorted, \n",
    "            annot=False)\n",
    "plt.title(\"Use biclustering method\")\n",
    "plt.show()  "
   ]
  },
  {
   "cell_type": "markdown",
   "metadata": {},
   "source": [
    "Build deep learning model "
   ]
  },
  {
   "cell_type": "code",
   "execution_count": null,
   "metadata": {},
   "outputs": [],
   "source": []
  }
 ],
 "metadata": {
  "kernelspec": {
   "display_name": "Python 3",
   "language": "python",
   "name": "python3"
  },
  "language_info": {
   "codemirror_mode": {
    "name": "ipython",
    "version": 3
   },
   "file_extension": ".py",
   "mimetype": "text/x-python",
   "name": "python",
   "nbconvert_exporter": "python",
   "pygments_lexer": "ipython3",
   "version": "3.6.5"
  }
 },
 "nbformat": 4,
 "nbformat_minor": 2
}
